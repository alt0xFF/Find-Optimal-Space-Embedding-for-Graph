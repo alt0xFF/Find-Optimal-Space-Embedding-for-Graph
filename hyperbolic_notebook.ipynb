{
 "cells": [
  {
   "cell_type": "code",
   "execution_count": 20,
   "metadata": {
    "collapsed": false
   },
   "outputs": [],
   "source": [
    "import matplotlib.pyplot as plt\n",
    "import numpy as np\n",
    "#from findOptimalEmbedding import * # uncomment this if you want to run in jupyter instead of CLI"
   ]
  },
  {
   "cell_type": "code",
   "execution_count": 21,
   "metadata": {
    "collapsed": false
   },
   "outputs": [],
   "source": [
    "#    weighted graph adjacency matrix\n",
    "#    A  B  C  D  E  F  G  H  I  J  K\n",
    "A = [0, 1, 2, 2, 1, 2, 2, 3, 3, 1, 2]\n",
    "B = [1, 0, 1, 1, 2, 3, 3, 4, 4, 2, 1]\n",
    "C = [2, 1, 0, 2, 3, 4, 4, 5, 5, 3, 2]\n",
    "D = [2, 1, 2, 0, 3, 4, 4, 5, 5, 3, 2]\n",
    "E = [1, 2, 3, 3, 0, 1, 1, 2, 2, 2, 3]\n",
    "F = [2, 3, 4, 4, 1, 0, 2, 3, 3, 3, 4]\n",
    "G = [2, 3, 4, 4, 1, 2, 0, 1, 1, 3, 4]\n",
    "H = [3, 4, 5, 5, 2, 3, 1, 0, 2, 4, 5]\n",
    "I = [3, 4, 5, 5, 2, 3, 1, 2, 0, 4, 5]\n",
    "J = [1, 2, 3, 3, 2, 3, 3, 4, 4, 0, 3]\n",
    "K = [2, 1, 2, 2, 3, 4, 4, 5, 5, 3, 0]\n",
    "graph = [A, B, C, D, E, F, G, H, I, J, K] \n",
    "\n",
    "embedding_dim = 2\n",
    "lr = 1e-3\n",
    "num_updates = 5000\n",
    "\n",
    "# uncomment this if you want to run in jupyter instead of CLI\n",
    "#findOptimalEmbedding(graph, embedding_dim, lr, num_updates) "
   ]
  },
  {
   "cell_type": "code",
   "execution_count": 13,
   "metadata": {
    "collapsed": false
   },
   "outputs": [
    {
     "name": "stdout",
     "output_type": "stream",
     "text": [
      "[[ 0.06086105  0.71133715]\n",
      " [-0.78733212  0.01106209]\n",
      " [-1.9953438   0.48533767]\n",
      " [-0.98510253 -1.28712535]\n",
      " [ 1.11668813  0.93933922]\n",
      " [ 1.33977652  2.29525042]\n",
      " [ 2.1924262   0.64350462]\n",
      " [ 3.11946797 -0.12570088]\n",
      " [ 3.20340061  1.21093798]\n",
      " [-0.57930011  1.96889937]\n",
      " [-1.68601584 -0.55568385]]\n"
     ]
    }
   ],
   "source": [
    "euclid_embedding = np.load('euclid_embedding.npy')\n",
    "print(euclid_embedding)"
   ]
  },
  {
   "cell_type": "code",
   "execution_count": 16,
   "metadata": {
    "collapsed": false
   },
   "outputs": [
    {
     "name": "stdout",
     "output_type": "stream",
     "text": [
      "[[ 0.    1.1   2.07  2.26  1.08  2.04  2.13  3.17  3.18  1.41  2.16]\n",
      " [ 1.1   0.    1.3   1.31  2.12  3.12  3.05  3.91  4.17  1.97  1.06]\n",
      " [ 2.07  1.3   0.    2.04  3.14  3.79  4.19  5.15  5.25  2.05  1.09]\n",
      " [ 2.26  1.31  2.04  0.    3.06  4.27  3.72  4.27  4.88  3.28  1.01]\n",
      " [ 1.08  2.12  3.14  3.06  0.    1.37  1.12  2.27  2.1   1.98  3.18]\n",
      " [ 2.04  3.12  3.79  4.27  1.37  0.    1.86  3.    2.16  1.95  4.16]\n",
      " [ 2.13  3.05  4.19  3.72  1.12  1.86  0.    1.2   1.16  3.07  4.06]\n",
      " [ 3.17  3.91  5.15  4.27  2.27  3.    1.2   0.    1.34  4.25  4.82]\n",
      " [ 3.18  4.17  5.25  4.88  2.1   2.16  1.16  1.34  0.    3.86  5.2 ]\n",
      " [ 1.41  1.97  2.05  3.28  1.98  1.95  3.07  4.25  3.86  0.    2.76]\n",
      " [ 2.16  1.06  1.09  1.01  3.18  4.16  4.06  4.82  5.2   2.76  0.  ]]\n"
     ]
    }
   ],
   "source": [
    "embed_list = euclid_embedding.tolist()\n",
    "num_vertices = len(euclid_embedding)\n",
    "dist = np.zeros([num_vertices, num_vertices])\n",
    "\n",
    "# get the distance matrix \n",
    "for i_idx, i in enumerate(embed_list):\n",
    "    for j_idx, j in enumerate(embed_list):\n",
    "        if i_idx <= j_idx:\n",
    "            continue\n",
    "        dist[i_idx][j_idx] = round(np.linalg.norm(np.asarray(i)-np.asarray(j)), 2)\n",
    "        dist[j_idx][i_idx] = dist[i_idx][j_idx]\n",
    "        \n",
    "print(dist)"
   ]
  },
  {
   "cell_type": "code",
   "execution_count": 17,
   "metadata": {
    "collapsed": false
   },
   "outputs": [
    {
     "data": {
      "image/png": "[encoded data removed]",
      "text/plain": [
       "<matplotlib.figure.Figure at 0x7faa0e067fd0>"
      ]
     },
     "metadata": {},
     "output_type": "display_data"
    }
   ],
   "source": [
    "# simple scatter graph using matplotlib\n",
    "fig = plt.figure()\n",
    "ax = fig.add_subplot(1,1,1)\n",
    "x = embedding[:,0]\n",
    "y = embedding[:,1]\n",
    "ax.scatter(x, y)\n",
    "plt.show()"
   ]
  },
  {
   "cell_type": "code",
   "execution_count": 22,
   "metadata": {
    "collapsed": false
   },
   "outputs": [
    {
     "name": "stdout",
     "output_type": "stream",
     "text": [
      "[[  2.21539840e-01   9.71600413e-04]\n",
      " [ -1.53510839e-01  -3.47857714e-01]\n",
      " [ -3.60791057e-01  -6.34288371e-01]\n",
      " [ -6.10593140e-01  -3.16935629e-01]\n",
      " [  3.84949207e-01   4.21562105e-01]\n",
      " [  6.88700318e-01   4.57100838e-01]\n",
      " [  3.87510180e-01   7.03458309e-01]\n",
      " [  3.51835459e-01   8.45521629e-01]\n",
      " [  4.97290611e-01   7.81135619e-01]\n",
      " [  6.43867612e-01  -2.30057821e-01]\n",
      " [  5.55604813e-04  -7.37275124e-01]]\n"
     ]
    }
   ],
   "source": [
    "hyp_embedding = np.load('hyp_embedding.npy')\n",
    "print(hyp_embedding)"
   ]
  },
  {
   "cell_type": "code",
   "execution_count": null,
   "metadata": {
    "collapsed": true
   },
   "outputs": [],
   "source": []
  }
 ],
 "metadata": {
  "kernelspec": {
   "display_name": "Python 2",
   "language": "python",
   "name": "python2"
  },
  "language_info": {
   "codemirror_mode": {
    "name": "ipython",
    "version": 2
   },
   "file_extension": ".py",
   "mimetype": "text/x-python",
   "name": "python",
   "nbconvert_exporter": "python",
   "pygments_lexer": "ipython2",
   "version": "2.7.12"
  }
 },
 "nbformat": 4,
 "nbformat_minor": 2
}
